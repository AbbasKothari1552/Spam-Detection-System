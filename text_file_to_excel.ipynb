{
 "cells": [
  {
   "cell_type": "markdown",
   "id": "35d1d68a-f2ee-4927-955c-35b2688f3928",
   "metadata": {},
   "source": [
    "# Email spam folder to Excel File with Label"
   ]
  },
  {
   "cell_type": "code",
   "execution_count": 38,
   "id": "70f82b9f-7daa-4f1b-b9dd-992f0493bf13",
   "metadata": {},
   "outputs": [],
   "source": [
    "import os\n",
    "import re\n",
    "import pandas as pd\n",
    "import csv"
   ]
  },
  {
   "cell_type": "code",
   "execution_count": 26,
   "id": "42dbee6f-a70d-4bf4-9261-9b9127631217",
   "metadata": {},
   "outputs": [],
   "source": [
    "### Define folder Paths for ham files\n",
    "\n",
    "ham_folder = [\n",
    "        'Dataset/enron1/ham',\n",
    "        'Dataset/enron2/ham',\n",
    "        'Dataset/enron3/ham',\n",
    "        'Dataset/enron4/ham',\n",
    "        'Dataset/enron5/ham',\n",
    "        'Dataset/enron6/ham',\n",
    "]"
   ]
  },
  {
   "cell_type": "code",
   "execution_count": 27,
   "id": "9e90b626-8acc-40bd-8a27-2b2ac9d763d9",
   "metadata": {},
   "outputs": [],
   "source": [
    "data = []"
   ]
  },
  {
   "cell_type": "code",
   "execution_count": 28,
   "id": "2ab98d34-7305-48ce-91c3-4152628a5caa",
   "metadata": {},
   "outputs": [],
   "source": [
    "# Function to clean text\n",
    "def clean_text(text):\n",
    "    # Remove illegal characters using regex\n",
    "    cleaned_text = re.sub(r'[^\\x20-\\x7E]', '', text)  # Remove non-printable ASCII characters\n",
    "    return cleaned_text"
   ]
  },
  {
   "cell_type": "code",
   "execution_count": 29,
   "id": "563636c3-b4fb-4075-a980-bf0e411b0346",
   "metadata": {},
   "outputs": [
    {
     "name": "stdout",
     "output_type": "stream",
     "text": [
      "Dataset/enron1/ham readed sucessfully\n",
      "Dataset/enron2/ham readed sucessfully\n",
      "Dataset/enron3/ham readed sucessfully\n",
      "Dataset/enron4/ham readed sucessfully\n",
      "Dataset/enron5/ham readed sucessfully\n",
      "Dataset/enron6/ham readed sucessfully\n"
     ]
    }
   ],
   "source": [
    "# Process ham folder\n",
    "for folder in ham_folder:\n",
    "    for filename in os.listdir(folder):\n",
    "        file_path = os.path.join(folder, filename)\n",
    "        if os.path.isfile(file_path):  # Ensure it's a file\n",
    "            with open(file_path, 'r', encoding='utf-8', errors='ignore') as f:\n",
    "                content = f.read()  # Read file content\n",
    "                cleaned_content = clean_text(content)\n",
    "                data.append({\"Text\": content, \"Label\": \"ham\"})\n",
    "    print(folder, \"readed sucessfully\")"
   ]
  },
  {
   "cell_type": "code",
   "execution_count": 30,
   "id": "27b21126-aa9b-4b7c-8096-f875eea59802",
   "metadata": {},
   "outputs": [
    {
     "data": {
      "text/plain": [
       "16545"
      ]
     },
     "execution_count": 30,
     "metadata": {},
     "output_type": "execute_result"
    }
   ],
   "source": [
    "len(data)"
   ]
  },
  {
   "cell_type": "code",
   "execution_count": 31,
   "id": "a316146f-44d9-4c18-9d4f-fbb6836b1ea9",
   "metadata": {},
   "outputs": [],
   "source": [
    "### Define folder Paths for ham files\n",
    "\n",
    "spam_folder = [\n",
    "        'Dataset/enron1/spam',\n",
    "        'Dataset/enron2/spam',\n",
    "        'Dataset/enron3/spam',\n",
    "        'Dataset/enron4/spam',\n",
    "        'Dataset/enron5/spam',\n",
    "        'Dataset/enron6/spam',\n",
    "]"
   ]
  },
  {
   "cell_type": "code",
   "execution_count": 32,
   "id": "6f70d825-ac09-43fc-8837-9101bbb90c16",
   "metadata": {},
   "outputs": [
    {
     "name": "stdout",
     "output_type": "stream",
     "text": [
      "Dataset/enron1/spam readed successfully\n",
      "Dataset/enron2/spam readed successfully\n",
      "Dataset/enron3/spam readed successfully\n",
      "Dataset/enron4/spam readed successfully\n",
      "Dataset/enron5/spam readed successfully\n",
      "Dataset/enron6/spam readed successfully\n"
     ]
    }
   ],
   "source": [
    "# Process spam folder\n",
    "\n",
    "for folder in spam_folder:\n",
    "    for filename in os.listdir(folder):\n",
    "        file_path = os.path.join(folder, filename)\n",
    "        if os.path.isfile(file_path):  # Ensure it's a file\n",
    "            with open(file_path, 'r', encoding='utf-8', errors='ignore') as f:\n",
    "                content = f.read()  # Read file content\n",
    "                cleaned_content = clean_text(content)\n",
    "                data.append({\"Text\": content, \"Label\": \"spam\"})\n",
    "    print(folder, \"readed successfully\")"
   ]
  },
  {
   "cell_type": "code",
   "execution_count": 33,
   "id": "8f14054f-46ed-4db6-9ca7-d02cf432f41d",
   "metadata": {},
   "outputs": [
    {
     "data": {
      "text/plain": [
       "33715"
      ]
     },
     "execution_count": 33,
     "metadata": {},
     "output_type": "execute_result"
    }
   ],
   "source": [
    "len(data)"
   ]
  },
  {
   "cell_type": "code",
   "execution_count": 34,
   "id": "e1d23f5c-03ca-46c4-ba50-77c63e5c0d2c",
   "metadata": {},
   "outputs": [
    {
     "data": {
      "text/plain": [
       "17170"
      ]
     },
     "execution_count": 34,
     "metadata": {},
     "output_type": "execute_result"
    }
   ],
   "source": [
    "33715 - 16545"
   ]
  },
  {
   "cell_type": "code",
   "execution_count": 35,
   "id": "0617b0e4-784c-4e63-a699-7fddc86ef4b8",
   "metadata": {},
   "outputs": [],
   "source": [
    "df = pd.DataFrame(data)"
   ]
  },
  {
   "cell_type": "code",
   "execution_count": 39,
   "id": "0e678087-9c66-49e1-994f-9d2fe3e98611",
   "metadata": {},
   "outputs": [
    {
     "name": "stdout",
     "output_type": "stream",
     "text": [
      "Dataset saved to email_spam_dataset.csv\n"
     ]
    }
   ],
   "source": [
    "# Save the DataFrame to a csv file\n",
    "\n",
    "output_file = \"email_spam_dataset.csv\"\n",
    "df.to_csv(output_file, index=False, sep=',', quoting=csv.QUOTE_MINIMAL, quotechar='\"', escapechar='\\\\')\n",
    "\n",
    "print(f\"Dataset saved to {output_file}\")"
   ]
  },
  {
   "cell_type": "code",
   "execution_count": 40,
   "id": "b7cf1d29-4413-44a8-a200-570635488828",
   "metadata": {},
   "outputs": [],
   "source": [
    "spam_dataset = pd.read_csv(\"email_spam_dataset.csv\")"
   ]
  },
  {
   "cell_type": "code",
   "execution_count": 42,
   "id": "55383d3d-4f51-4a89-a350-ce71397556ca",
   "metadata": {},
   "outputs": [
    {
     "data": {
      "text/plain": [
       "(33715, 2)"
      ]
     },
     "execution_count": 42,
     "metadata": {},
     "output_type": "execute_result"
    }
   ],
   "source": [
    "spam_dataset.shape"
   ]
  },
  {
   "cell_type": "code",
   "execution_count": 43,
   "id": "3d811acf-8a30-4594-b790-efec91ca6ba5",
   "metadata": {},
   "outputs": [
    {
     "data": {
      "text/html": [
       "<div>\n",
       "<style scoped>\n",
       "    .dataframe tbody tr th:only-of-type {\n",
       "        vertical-align: middle;\n",
       "    }\n",
       "\n",
       "    .dataframe tbody tr th {\n",
       "        vertical-align: top;\n",
       "    }\n",
       "\n",
       "    .dataframe thead th {\n",
       "        text-align: right;\n",
       "    }\n",
       "</style>\n",
       "<table border=\"1\" class=\"dataframe\">\n",
       "  <thead>\n",
       "    <tr style=\"text-align: right;\">\n",
       "      <th></th>\n",
       "      <th>Text</th>\n",
       "      <th>Label</th>\n",
       "    </tr>\n",
       "  </thead>\n",
       "  <tbody>\n",
       "    <tr>\n",
       "      <th>0</th>\n",
       "      <td>Subject: christmas tree farm pictures\\n</td>\n",
       "      <td>ham</td>\n",
       "    </tr>\n",
       "    <tr>\n",
       "      <th>1</th>\n",
       "      <td>Subject: vastar resources , inc .\\ngary , prod...</td>\n",
       "      <td>ham</td>\n",
       "    </tr>\n",
       "    <tr>\n",
       "      <th>2</th>\n",
       "      <td>Subject: calpine daily gas nomination\\n- calpi...</td>\n",
       "      <td>ham</td>\n",
       "    </tr>\n",
       "    <tr>\n",
       "      <th>3</th>\n",
       "      <td>Subject: re : issue\\nfyi - see note below - al...</td>\n",
       "      <td>ham</td>\n",
       "    </tr>\n",
       "    <tr>\n",
       "      <th>4</th>\n",
       "      <td>Subject: meter 7268 nov allocation\\nfyi .\\n- -...</td>\n",
       "      <td>ham</td>\n",
       "    </tr>\n",
       "    <tr>\n",
       "      <th>5</th>\n",
       "      <td>Subject: mcmullen gas for 11 / 99\\njackie ,\\ns...</td>\n",
       "      <td>ham</td>\n",
       "    </tr>\n",
       "    <tr>\n",
       "      <th>6</th>\n",
       "      <td>Subject: meter 1517 - jan 1999\\ngeorge ,\\ni ne...</td>\n",
       "      <td>ham</td>\n",
       "    </tr>\n",
       "    <tr>\n",
       "      <th>7</th>\n",
       "      <td>Subject: duns number changes\\nfyi\\n- - - - - -...</td>\n",
       "      <td>ham</td>\n",
       "    </tr>\n",
       "    <tr>\n",
       "      <th>8</th>\n",
       "      <td>Subject: king ranch\\nthere are two fields of g...</td>\n",
       "      <td>ham</td>\n",
       "    </tr>\n",
       "    <tr>\n",
       "      <th>9</th>\n",
       "      <td>Subject: re : entex transistion\\nthanks so muc...</td>\n",
       "      <td>ham</td>\n",
       "    </tr>\n",
       "    <tr>\n",
       "      <th>10</th>\n",
       "      <td>Subject: entex transistion\\nthe purpose of the...</td>\n",
       "      <td>ham</td>\n",
       "    </tr>\n",
       "    <tr>\n",
       "      <th>11</th>\n",
       "      <td>Subject: lst rev dec . 1999 josey ranch nom\\nf...</td>\n",
       "      <td>ham</td>\n",
       "    </tr>\n",
       "    <tr>\n",
       "      <th>12</th>\n",
       "      <td>Subject: 2 nd rev dec . 1999 josey ranch nom\\n...</td>\n",
       "      <td>ham</td>\n",
       "    </tr>\n",
       "    <tr>\n",
       "      <th>13</th>\n",
       "      <td>Subject: unify close schedule\\nthe following i...</td>\n",
       "      <td>ham</td>\n",
       "    </tr>\n",
       "    <tr>\n",
       "      <th>14</th>\n",
       "      <td>Subject: meter 1431 - nov 1999\\naimee ,\\nsitar...</td>\n",
       "      <td>ham</td>\n",
       "    </tr>\n",
       "    <tr>\n",
       "      <th>15</th>\n",
       "      <td>Subject: meter 1431 - nov 1999\\ndaren -\\ncould...</td>\n",
       "      <td>ham</td>\n",
       "    </tr>\n",
       "    <tr>\n",
       "      <th>16</th>\n",
       "      <td>Subject: y 2 k - texas log\\nname home pager\\ng...</td>\n",
       "      <td>ham</td>\n",
       "    </tr>\n",
       "    <tr>\n",
       "      <th>17</th>\n",
       "      <td>Subject: re : lyondell citgo\\nmy latest unders...</td>\n",
       "      <td>ham</td>\n",
       "    </tr>\n",
       "    <tr>\n",
       "      <th>18</th>\n",
       "      <td>Subject: hpl fuel gas buy - back for december ...</td>\n",
       "      <td>ham</td>\n",
       "    </tr>\n",
       "    <tr>\n",
       "      <th>19</th>\n",
       "      <td>Subject: ua 4 - meter 1441 for 11 / 97 - falfu...</td>\n",
       "      <td>ham</td>\n",
       "    </tr>\n",
       "  </tbody>\n",
       "</table>\n",
       "</div>"
      ],
      "text/plain": [
       "                                                 Text Label\n",
       "0             Subject: christmas tree farm pictures\\n   ham\n",
       "1   Subject: vastar resources , inc .\\ngary , prod...   ham\n",
       "2   Subject: calpine daily gas nomination\\n- calpi...   ham\n",
       "3   Subject: re : issue\\nfyi - see note below - al...   ham\n",
       "4   Subject: meter 7268 nov allocation\\nfyi .\\n- -...   ham\n",
       "5   Subject: mcmullen gas for 11 / 99\\njackie ,\\ns...   ham\n",
       "6   Subject: meter 1517 - jan 1999\\ngeorge ,\\ni ne...   ham\n",
       "7   Subject: duns number changes\\nfyi\\n- - - - - -...   ham\n",
       "8   Subject: king ranch\\nthere are two fields of g...   ham\n",
       "9   Subject: re : entex transistion\\nthanks so muc...   ham\n",
       "10  Subject: entex transistion\\nthe purpose of the...   ham\n",
       "11  Subject: lst rev dec . 1999 josey ranch nom\\nf...   ham\n",
       "12  Subject: 2 nd rev dec . 1999 josey ranch nom\\n...   ham\n",
       "13  Subject: unify close schedule\\nthe following i...   ham\n",
       "14  Subject: meter 1431 - nov 1999\\naimee ,\\nsitar...   ham\n",
       "15  Subject: meter 1431 - nov 1999\\ndaren -\\ncould...   ham\n",
       "16  Subject: y 2 k - texas log\\nname home pager\\ng...   ham\n",
       "17  Subject: re : lyondell citgo\\nmy latest unders...   ham\n",
       "18  Subject: hpl fuel gas buy - back for december ...   ham\n",
       "19  Subject: ua 4 - meter 1441 for 11 / 97 - falfu...   ham"
      ]
     },
     "execution_count": 43,
     "metadata": {},
     "output_type": "execute_result"
    }
   ],
   "source": [
    "spam_dataset.head(20)"
   ]
  },
  {
   "cell_type": "code",
   "execution_count": null,
   "id": "9b9efda3-9ed7-4513-b511-9d2caad79638",
   "metadata": {},
   "outputs": [],
   "source": []
  }
 ],
 "metadata": {
  "kernelspec": {
   "display_name": "Python (rapids-24.10)",
   "language": "python",
   "name": "base"
  },
  "language_info": {
   "codemirror_mode": {
    "name": "ipython",
    "version": 3
   },
   "file_extension": ".py",
   "mimetype": "text/x-python",
   "name": "python",
   "nbconvert_exporter": "python",
   "pygments_lexer": "ipython3",
   "version": "3.10.15"
  }
 },
 "nbformat": 4,
 "nbformat_minor": 5
}
